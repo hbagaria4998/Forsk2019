{
  "nbformat": 4,
  "nbformat_minor": 0,
  "metadata": {
    "colab": {
      "name": "ann_hb.ipynb",
      "version": "0.3.2",
      "provenance": [],
      "collapsed_sections": [],
      "include_colab_link": true
    },
    "kernelspec": {
      "name": "python3",
      "display_name": "Python 3"
    }
  },
  "cells": [
    {
      "cell_type": "markdown",
      "metadata": {
        "id": "view-in-github",
        "colab_type": "text"
      },
      "source": [
        "<a href=\"https://colab.research.google.com/github/hbagaria4998/Forsk2019/blob/master/ann_hb.ipynb\" target=\"_parent\"><img src=\"https://colab.research.google.com/assets/colab-badge.svg\" alt=\"Open In Colab\"/></a>"
      ]
    },
    {
      "cell_type": "code",
      "metadata": {
        "id": "8yJvLbEGF4uv",
        "colab_type": "code",
        "outputId": "a2f1dd9d-05eb-4230-a296-17cd431f8a5f",
        "colab": {
          "base_uri": "https://localhost:8080/",
          "height": 125
        }
      },
      "source": [
        "from google.colab import drive\n",
        "drive.mount('/content/drive')"
      ],
      "execution_count": 0,
      "outputs": [
        {
          "output_type": "stream",
          "text": [
            "Go to this URL in a browser: https://accounts.google.com/o/oauth2/auth?client_id=947318989803-6bn6qk8qdgf4n4g3pfee6491hc0brc4i.apps.googleusercontent.com&redirect_uri=urn%3Aietf%3Awg%3Aoauth%3A2.0%3Aoob&scope=email%20https%3A%2F%2Fwww.googleapis.com%2Fauth%2Fdocs.test%20https%3A%2F%2Fwww.googleapis.com%2Fauth%2Fdrive%20https%3A%2F%2Fwww.googleapis.com%2Fauth%2Fdrive.photos.readonly%20https%3A%2F%2Fwww.googleapis.com%2Fauth%2Fpeopleapi.readonly&response_type=code\n",
            "\n",
            "Enter your authorization code:\n",
            "··········\n",
            "Mounted at /content/drive\n"
          ],
          "name": "stdout"
        }
      ]
    },
    {
      "cell_type": "code",
      "metadata": {
        "id": "MMUffEs8M8LU",
        "colab_type": "code",
        "outputId": "d101a612-3631-4350-8c11-fc16a8b8f4d2",
        "colab": {
          "base_uri": "https://localhost:8080/",
          "height": 35
        }
      },
      "source": [
        "import os\n",
        "os.getcwd()"
      ],
      "execution_count": 0,
      "outputs": [
        {
          "output_type": "execute_result",
          "data": {
            "text/plain": [
              "'/content'"
            ]
          },
          "metadata": {
            "tags": []
          },
          "execution_count": 2
        }
      ]
    },
    {
      "cell_type": "code",
      "metadata": {
        "id": "7ZwCNoewM84D",
        "colab_type": "code",
        "colab": {}
      },
      "source": [
        "os.chdir('/content/drive/My Drive/Deep_learning/ANN/')"
      ],
      "execution_count": 0,
      "outputs": []
    },
    {
      "cell_type": "code",
      "metadata": {
        "id": "hbYyWTs2OH2R",
        "colab_type": "code",
        "outputId": "2b8a160c-6263-40c0-f0e2-31e1fa7a98fb",
        "colab": {
          "base_uri": "https://localhost:8080/",
          "height": 35
        }
      },
      "source": [
        "os.getcwd()"
      ],
      "execution_count": 0,
      "outputs": [
        {
          "output_type": "execute_result",
          "data": {
            "text/plain": [
              "'/content/drive/My Drive/Deep_learning/ANN'"
            ]
          },
          "metadata": {
            "tags": []
          },
          "execution_count": 6
        }
      ]
    },
    {
      "cell_type": "code",
      "metadata": {
        "id": "rv5zWP4UNWFq",
        "colab_type": "code",
        "outputId": "6134bd8d-41c3-4e0d-e686-ed684ffbb785",
        "colab": {
          "base_uri": "https://localhost:8080/",
          "height": 88
        }
      },
      "source": [
        "!pip install theano"
      ],
      "execution_count": 0,
      "outputs": [
        {
          "output_type": "stream",
          "text": [
            "Requirement already satisfied: theano in /usr/local/lib/python3.6/dist-packages (1.0.4)\n",
            "Requirement already satisfied: numpy>=1.9.1 in /usr/local/lib/python3.6/dist-packages (from theano) (1.16.4)\n",
            "Requirement already satisfied: six>=1.9.0 in /usr/local/lib/python3.6/dist-packages (from theano) (1.12.0)\n",
            "Requirement already satisfied: scipy>=0.14 in /usr/local/lib/python3.6/dist-packages (from theano) (1.3.0)\n"
          ],
          "name": "stdout"
        }
      ]
    },
    {
      "cell_type": "code",
      "metadata": {
        "id": "yEIAmYEmPkgm",
        "colab_type": "code",
        "colab": {}
      },
      "source": [
        "# Classification template\n",
        "\n",
        "# Importing the libraries\n",
        "import numpy as np\n",
        "import matplotlib.pyplot as plt\n",
        "import pandas as pd\n",
        "\n"
      ],
      "execution_count": 0,
      "outputs": []
    },
    {
      "cell_type": "code",
      "metadata": {
        "id": "Ilrc0wtNQEsb",
        "colab_type": "code",
        "colab": {}
      },
      "source": [
        "# Importing the dataset\n",
        "dataset = pd.read_csv('Churn_Modelling.csv')\n"
      ],
      "execution_count": 0,
      "outputs": []
    },
    {
      "cell_type": "code",
      "metadata": {
        "id": "WYPBVDm6QOxC",
        "colab_type": "code",
        "outputId": "dc8c4f67-be40-46c7-9834-51f29e01995f",
        "colab": {
          "base_uri": "https://localhost:8080/",
          "height": 202
        }
      },
      "source": [
        "dataset.head()\n"
      ],
      "execution_count": 0,
      "outputs": [
        {
          "output_type": "execute_result",
          "data": {
            "text/html": [
              "<div>\n",
              "<style scoped>\n",
              "    .dataframe tbody tr th:only-of-type {\n",
              "        vertical-align: middle;\n",
              "    }\n",
              "\n",
              "    .dataframe tbody tr th {\n",
              "        vertical-align: top;\n",
              "    }\n",
              "\n",
              "    .dataframe thead th {\n",
              "        text-align: right;\n",
              "    }\n",
              "</style>\n",
              "<table border=\"1\" class=\"dataframe\">\n",
              "  <thead>\n",
              "    <tr style=\"text-align: right;\">\n",
              "      <th></th>\n",
              "      <th>RowNumber</th>\n",
              "      <th>CustomerId</th>\n",
              "      <th>Surname</th>\n",
              "      <th>CreditScore</th>\n",
              "      <th>Geography</th>\n",
              "      <th>Gender</th>\n",
              "      <th>Age</th>\n",
              "      <th>Tenure</th>\n",
              "      <th>Balance</th>\n",
              "      <th>NumOfProducts</th>\n",
              "      <th>HasCrCard</th>\n",
              "      <th>IsActiveMember</th>\n",
              "      <th>EstimatedSalary</th>\n",
              "      <th>Exited</th>\n",
              "    </tr>\n",
              "  </thead>\n",
              "  <tbody>\n",
              "    <tr>\n",
              "      <th>0</th>\n",
              "      <td>1</td>\n",
              "      <td>15634602</td>\n",
              "      <td>Hargrave</td>\n",
              "      <td>619</td>\n",
              "      <td>France</td>\n",
              "      <td>Female</td>\n",
              "      <td>42</td>\n",
              "      <td>2</td>\n",
              "      <td>0.00</td>\n",
              "      <td>1</td>\n",
              "      <td>1</td>\n",
              "      <td>1</td>\n",
              "      <td>101348.88</td>\n",
              "      <td>1</td>\n",
              "    </tr>\n",
              "    <tr>\n",
              "      <th>1</th>\n",
              "      <td>2</td>\n",
              "      <td>15647311</td>\n",
              "      <td>Hill</td>\n",
              "      <td>608</td>\n",
              "      <td>Spain</td>\n",
              "      <td>Female</td>\n",
              "      <td>41</td>\n",
              "      <td>1</td>\n",
              "      <td>83807.86</td>\n",
              "      <td>1</td>\n",
              "      <td>0</td>\n",
              "      <td>1</td>\n",
              "      <td>112542.58</td>\n",
              "      <td>0</td>\n",
              "    </tr>\n",
              "    <tr>\n",
              "      <th>2</th>\n",
              "      <td>3</td>\n",
              "      <td>15619304</td>\n",
              "      <td>Onio</td>\n",
              "      <td>502</td>\n",
              "      <td>France</td>\n",
              "      <td>Female</td>\n",
              "      <td>42</td>\n",
              "      <td>8</td>\n",
              "      <td>159660.80</td>\n",
              "      <td>3</td>\n",
              "      <td>1</td>\n",
              "      <td>0</td>\n",
              "      <td>113931.57</td>\n",
              "      <td>1</td>\n",
              "    </tr>\n",
              "    <tr>\n",
              "      <th>3</th>\n",
              "      <td>4</td>\n",
              "      <td>15701354</td>\n",
              "      <td>Boni</td>\n",
              "      <td>699</td>\n",
              "      <td>France</td>\n",
              "      <td>Female</td>\n",
              "      <td>39</td>\n",
              "      <td>1</td>\n",
              "      <td>0.00</td>\n",
              "      <td>2</td>\n",
              "      <td>0</td>\n",
              "      <td>0</td>\n",
              "      <td>93826.63</td>\n",
              "      <td>0</td>\n",
              "    </tr>\n",
              "    <tr>\n",
              "      <th>4</th>\n",
              "      <td>5</td>\n",
              "      <td>15737888</td>\n",
              "      <td>Mitchell</td>\n",
              "      <td>850</td>\n",
              "      <td>Spain</td>\n",
              "      <td>Female</td>\n",
              "      <td>43</td>\n",
              "      <td>2</td>\n",
              "      <td>125510.82</td>\n",
              "      <td>1</td>\n",
              "      <td>1</td>\n",
              "      <td>1</td>\n",
              "      <td>79084.10</td>\n",
              "      <td>0</td>\n",
              "    </tr>\n",
              "  </tbody>\n",
              "</table>\n",
              "</div>"
            ],
            "text/plain": [
              "   RowNumber  CustomerId   Surname  ...  IsActiveMember EstimatedSalary Exited\n",
              "0          1    15634602  Hargrave  ...               1       101348.88      1\n",
              "1          2    15647311      Hill  ...               1       112542.58      0\n",
              "2          3    15619304      Onio  ...               0       113931.57      1\n",
              "3          4    15701354      Boni  ...               0        93826.63      0\n",
              "4          5    15737888  Mitchell  ...               1        79084.10      0\n",
              "\n",
              "[5 rows x 14 columns]"
            ]
          },
          "metadata": {
            "tags": []
          },
          "execution_count": 9
        }
      ]
    },
    {
      "cell_type": "code",
      "metadata": {
        "id": "Ll4M-zMvQM3m",
        "colab_type": "code",
        "colab": {}
      },
      "source": [
        "X = dataset.iloc[:, 3:-1].values\n",
        "y = dataset.iloc[:, -1].values\n"
      ],
      "execution_count": 0,
      "outputs": []
    },
    {
      "cell_type": "code",
      "metadata": {
        "id": "9K8CaKMeTdjd",
        "colab_type": "code",
        "outputId": "81636f37-9ade-4744-8de0-02b17795ede1",
        "colab": {
          "base_uri": "https://localhost:8080/",
          "height": 141
        }
      },
      "source": [
        "X"
      ],
      "execution_count": 0,
      "outputs": [
        {
          "output_type": "execute_result",
          "data": {
            "text/plain": [
              "array([[619, 'France', 'Female', ..., 1, 1, 101348.88],\n",
              "       [608, 'Spain', 'Female', ..., 0, 1, 112542.58],\n",
              "       [502, 'France', 'Female', ..., 1, 0, 113931.57],\n",
              "       ...,\n",
              "       [709, 'France', 'Female', ..., 0, 1, 42085.58],\n",
              "       [772, 'Germany', 'Male', ..., 1, 0, 92888.52],\n",
              "       [792, 'France', 'Female', ..., 1, 0, 38190.78]], dtype=object)"
            ]
          },
          "metadata": {
            "tags": []
          },
          "execution_count": 13
        }
      ]
    },
    {
      "cell_type": "code",
      "metadata": {
        "id": "_hULeMEZSvcP",
        "colab_type": "code",
        "outputId": "702d11b6-0076-4ecb-8128-01b1b50f96ba",
        "colab": {
          "base_uri": "https://localhost:8080/",
          "height": 143
        }
      },
      "source": [
        "\n",
        "# Encoding categorical data\n",
        "# Encoding the Independent Variable\n",
        "from sklearn.preprocessing import LabelEncoder, OneHotEncoder\n",
        "labelencoder_X_1 = LabelEncoder()\n",
        "X[:, 1] = labelencoder_X_1.fit_transform(X[:, 1])\n",
        "labelencoder_X_2 = LabelEncoder()\n",
        "X[:, 2] = labelencoder_X_2.fit_transform(X[:, 2])\n",
        "onehotencoder = OneHotEncoder(categorical_features = [1])\n",
        "X = onehotencoder.fit_transform(X).toarray()"
      ],
      "execution_count": 0,
      "outputs": [
        {
          "output_type": "stream",
          "text": [
            "/usr/local/lib/python3.6/dist-packages/sklearn/preprocessing/_encoders.py:415: FutureWarning: The handling of integer data will change in version 0.22. Currently, the categories are determined based on the range [0, max(values)], while in the future they will be determined based on the unique values.\n",
            "If you want the future behaviour and silence this warning, you can specify \"categories='auto'\".\n",
            "In case you used a LabelEncoder before this OneHotEncoder to convert the categories to integers, then you can now use the OneHotEncoder directly.\n",
            "  warnings.warn(msg, FutureWarning)\n",
            "/usr/local/lib/python3.6/dist-packages/sklearn/preprocessing/_encoders.py:451: DeprecationWarning: The 'categorical_features' keyword is deprecated in version 0.20 and will be removed in 0.22. You can use the ColumnTransformer instead.\n",
            "  \"use the ColumnTransformer instead.\", DeprecationWarning)\n"
          ],
          "name": "stderr"
        }
      ]
    },
    {
      "cell_type": "code",
      "metadata": {
        "id": "cTyxJA-RVU-f",
        "colab_type": "code",
        "colab": {}
      },
      "source": [
        "X = X[:,1:]"
      ],
      "execution_count": 0,
      "outputs": []
    },
    {
      "cell_type": "code",
      "metadata": {
        "id": "tu9ydDpfVpdQ",
        "colab_type": "code",
        "outputId": "b87d1c74-5949-4794-f2a5-92dec1978776",
        "colab": {
          "base_uri": "https://localhost:8080/",
          "height": 247
        }
      },
      "source": [
        "X"
      ],
      "execution_count": 0,
      "outputs": [
        {
          "output_type": "execute_result",
          "data": {
            "text/plain": [
              "array([[0.0000000e+00, 0.0000000e+00, 6.1900000e+02, ..., 1.0000000e+00,\n",
              "        1.0000000e+00, 1.0134888e+05],\n",
              "       [0.0000000e+00, 1.0000000e+00, 6.0800000e+02, ..., 0.0000000e+00,\n",
              "        1.0000000e+00, 1.1254258e+05],\n",
              "       [0.0000000e+00, 0.0000000e+00, 5.0200000e+02, ..., 1.0000000e+00,\n",
              "        0.0000000e+00, 1.1393157e+05],\n",
              "       ...,\n",
              "       [0.0000000e+00, 0.0000000e+00, 7.0900000e+02, ..., 0.0000000e+00,\n",
              "        1.0000000e+00, 4.2085580e+04],\n",
              "       [1.0000000e+00, 0.0000000e+00, 7.7200000e+02, ..., 1.0000000e+00,\n",
              "        0.0000000e+00, 9.2888520e+04],\n",
              "       [0.0000000e+00, 0.0000000e+00, 7.9200000e+02, ..., 1.0000000e+00,\n",
              "        0.0000000e+00, 3.8190780e+04]])"
            ]
          },
          "metadata": {
            "tags": []
          },
          "execution_count": 18
        }
      ]
    },
    {
      "cell_type": "code",
      "metadata": {
        "id": "Nn1tT3ucQHRE",
        "colab_type": "code",
        "colab": {}
      },
      "source": [
        "\n",
        "# Splitting the dataset into the Training set and Test set\n",
        "from sklearn.model_selection import train_test_split\n",
        "X_train, X_test, y_train, y_test = train_test_split(X, y, test_size = 0.2, random_state = 0)\n"
      ],
      "execution_count": 0,
      "outputs": []
    },
    {
      "cell_type": "code",
      "metadata": {
        "id": "eCHHaV5JaG2M",
        "colab_type": "code",
        "colab": {}
      },
      "source": [
        "# Feature Scaling\n",
        "from sklearn.preprocessing import StandardScaler\n",
        "sc = StandardScaler()\n",
        "X_train = sc.fit_transform(X_train)\n",
        "X_test = sc.transform(X_test)\n"
      ],
      "execution_count": 0,
      "outputs": []
    },
    {
      "cell_type": "markdown",
      "metadata": {
        "id": "1FibESLNay5s",
        "colab_type": "text"
      },
      "source": [
        "**Building ANN**"
      ]
    },
    {
      "cell_type": "code",
      "metadata": {
        "id": "ajv7VPI9aZ5_",
        "colab_type": "code",
        "outputId": "9f4a2b39-d02a-4e50-85db-e465b6250e09",
        "colab": {
          "base_uri": "https://localhost:8080/",
          "height": 35
        }
      },
      "source": [
        "import keras"
      ],
      "execution_count": 0,
      "outputs": [
        {
          "output_type": "stream",
          "text": [
            "Using TensorFlow backend.\n"
          ],
          "name": "stderr"
        }
      ]
    },
    {
      "cell_type": "code",
      "metadata": {
        "id": "otiVaN4CbGUY",
        "colab_type": "code",
        "colab": {}
      },
      "source": [
        "from keras.models import Sequential\n",
        "from keras.layers import Dense\n"
      ],
      "execution_count": 0,
      "outputs": []
    },
    {
      "cell_type": "code",
      "metadata": {
        "id": "nPiLj_fyb2hf",
        "colab_type": "code",
        "outputId": "9eaae7be-a9f9-4828-b0cb-14790f9bbd88",
        "colab": {
          "base_uri": "https://localhost:8080/",
          "height": 90
        }
      },
      "source": [
        "classifier = Sequential()"
      ],
      "execution_count": 0,
      "outputs": [
        {
          "output_type": "stream",
          "text": [
            "WARNING: Logging before flag parsing goes to stderr.\n",
            "W0615 14:00:02.638955 140126946178944 deprecation_wrapper.py:119] From /usr/local/lib/python3.6/dist-packages/keras/backend/tensorflow_backend.py:74: The name tf.get_default_graph is deprecated. Please use tf.compat.v1.get_default_graph instead.\n",
            "\n"
          ],
          "name": "stderr"
        }
      ]
    },
    {
      "cell_type": "code",
      "metadata": {
        "id": "t0sVeRxRbeOr",
        "colab_type": "code",
        "outputId": "aa3eff72-75c7-4e93-953f-0f10aa316389",
        "colab": {
          "base_uri": "https://localhost:8080/",
          "height": 143
        }
      },
      "source": [
        "classifier.add(Dense(output_dim = 6,init = 'uniform',activation = 'relu',\n",
        "                    input_dim = 11))"
      ],
      "execution_count": 0,
      "outputs": [
        {
          "output_type": "stream",
          "text": [
            "/usr/local/lib/python3.6/dist-packages/ipykernel_launcher.py:2: UserWarning: Update your `Dense` call to the Keras 2 API: `Dense(activation=\"relu\", input_dim=11, units=6, kernel_initializer=\"uniform\")`\n",
            "  \n",
            "W0615 14:32:25.901983 140126946178944 deprecation_wrapper.py:119] From /usr/local/lib/python3.6/dist-packages/keras/backend/tensorflow_backend.py:517: The name tf.placeholder is deprecated. Please use tf.compat.v1.placeholder instead.\n",
            "\n",
            "W0615 14:32:25.914933 140126946178944 deprecation_wrapper.py:119] From /usr/local/lib/python3.6/dist-packages/keras/backend/tensorflow_backend.py:4138: The name tf.random_uniform is deprecated. Please use tf.random.uniform instead.\n",
            "\n"
          ],
          "name": "stderr"
        }
      ]
    },
    {
      "cell_type": "code",
      "metadata": {
        "id": "-p_m6RnPjg-q",
        "colab_type": "code",
        "outputId": "32f4fdb1-7739-4b5d-b392-0b796c19c3cd",
        "colab": {
          "base_uri": "https://localhost:8080/",
          "height": 72
        }
      },
      "source": [
        "classifier.add(Dense(output_dim = 6,init = 'uniform',activation = 'relu'))"
      ],
      "execution_count": 0,
      "outputs": [
        {
          "output_type": "stream",
          "text": [
            "/usr/local/lib/python3.6/dist-packages/ipykernel_launcher.py:1: UserWarning: Update your `Dense` call to the Keras 2 API: `Dense(activation=\"relu\", units=6, kernel_initializer=\"uniform\")`\n",
            "  \"\"\"Entry point for launching an IPython kernel.\n"
          ],
          "name": "stderr"
        }
      ]
    },
    {
      "cell_type": "code",
      "metadata": {
        "id": "2VXoD4Hhj_Hu",
        "colab_type": "code",
        "outputId": "a8c5072b-b7c4-4b19-da23-e25896f30e85",
        "colab": {
          "base_uri": "https://localhost:8080/",
          "height": 72
        }
      },
      "source": [
        "classifier.add(Dense(output_dim = 1,init = 'uniform',activation = 'sigmoid'))"
      ],
      "execution_count": 0,
      "outputs": [
        {
          "output_type": "stream",
          "text": [
            "/usr/local/lib/python3.6/dist-packages/ipykernel_launcher.py:1: UserWarning: Update your `Dense` call to the Keras 2 API: `Dense(activation=\"sigmoid\", units=1, kernel_initializer=\"uniform\")`\n",
            "  \"\"\"Entry point for launching an IPython kernel.\n"
          ],
          "name": "stderr"
        }
      ]
    },
    {
      "cell_type": "code",
      "metadata": {
        "id": "xjFhM_HblU_R",
        "colab_type": "code",
        "outputId": "a263825a-395b-47f5-9ce4-bfa9f55bb111",
        "colab": {
          "base_uri": "https://localhost:8080/",
          "height": 161
        }
      },
      "source": [
        "classifier.compile(optimizer= 'adam',loss ='binary_crossentropy',\n",
        "                  metrics = ['accuracy'])"
      ],
      "execution_count": 0,
      "outputs": [
        {
          "output_type": "stream",
          "text": [
            "W0615 14:55:23.757498 140126946178944 deprecation_wrapper.py:119] From /usr/local/lib/python3.6/dist-packages/keras/optimizers.py:790: The name tf.train.Optimizer is deprecated. Please use tf.compat.v1.train.Optimizer instead.\n",
            "\n",
            "W0615 14:55:23.797677 140126946178944 deprecation_wrapper.py:119] From /usr/local/lib/python3.6/dist-packages/keras/backend/tensorflow_backend.py:3376: The name tf.log is deprecated. Please use tf.math.log instead.\n",
            "\n",
            "W0615 14:55:23.806655 140126946178944 deprecation.py:323] From /usr/local/lib/python3.6/dist-packages/tensorflow/python/ops/nn_impl.py:180: add_dispatch_support.<locals>.wrapper (from tensorflow.python.ops.array_ops) is deprecated and will be removed in a future version.\n",
            "Instructions for updating:\n",
            "Use tf.where in 2.0, which has the same broadcast rule as np.where\n"
          ],
          "name": "stderr"
        }
      ]
    },
    {
      "cell_type": "code",
      "metadata": {
        "id": "iLvXKrid2AI1",
        "colab_type": "code",
        "outputId": "feb91e60-6302-450f-bfa8-ac6dd3cec281",
        "colab": {
          "base_uri": "https://localhost:8080/",
          "height": 3628
        }
      },
      "source": [
        "classifier.fit(X_train,y_train,batch_size=10,epochs=100)"
      ],
      "execution_count": 0,
      "outputs": [
        {
          "output_type": "stream",
          "text": [
            "W0615 16:06:18.794190 140126946178944 deprecation_wrapper.py:119] From /usr/local/lib/python3.6/dist-packages/keras/backend/tensorflow_backend.py:986: The name tf.assign_add is deprecated. Please use tf.compat.v1.assign_add instead.\n",
            "\n"
          ],
          "name": "stderr"
        },
        {
          "output_type": "stream",
          "text": [
            "Epoch 1/100\n",
            "8000/8000 [==============================] - 2s 219us/step - loss: 0.4855 - acc: 0.7957\n",
            "Epoch 2/100\n",
            "8000/8000 [==============================] - 1s 126us/step - loss: 0.4115 - acc: 0.8231\n",
            "Epoch 3/100\n",
            "8000/8000 [==============================] - 1s 113us/step - loss: 0.3952 - acc: 0.8292\n",
            "Epoch 4/100\n",
            "8000/8000 [==============================] - 1s 112us/step - loss: 0.3861 - acc: 0.8314\n",
            "Epoch 5/100\n",
            "8000/8000 [==============================] - 1s 114us/step - loss: 0.3787 - acc: 0.8341\n",
            "Epoch 6/100\n",
            "8000/8000 [==============================] - 1s 112us/step - loss: 0.3731 - acc: 0.8436\n",
            "Epoch 7/100\n",
            "8000/8000 [==============================] - 1s 114us/step - loss: 0.3695 - acc: 0.8469\n",
            "Epoch 8/100\n",
            "8000/8000 [==============================] - 1s 114us/step - loss: 0.3660 - acc: 0.8481\n",
            "Epoch 9/100\n",
            "8000/8000 [==============================] - 1s 114us/step - loss: 0.3632 - acc: 0.8509\n",
            "Epoch 10/100\n",
            "8000/8000 [==============================] - 1s 113us/step - loss: 0.3618 - acc: 0.8511\n",
            "Epoch 11/100\n",
            "8000/8000 [==============================] - 1s 115us/step - loss: 0.3592 - acc: 0.8536\n",
            "Epoch 12/100\n",
            "8000/8000 [==============================] - 1s 113us/step - loss: 0.3571 - acc: 0.8516\n",
            "Epoch 13/100\n",
            "8000/8000 [==============================] - 1s 112us/step - loss: 0.3569 - acc: 0.8547\n",
            "Epoch 14/100\n",
            "8000/8000 [==============================] - 1s 113us/step - loss: 0.3551 - acc: 0.8554\n",
            "Epoch 15/100\n",
            "8000/8000 [==============================] - 1s 114us/step - loss: 0.3545 - acc: 0.8584\n",
            "Epoch 16/100\n",
            "8000/8000 [==============================] - 1s 115us/step - loss: 0.3532 - acc: 0.8586\n",
            "Epoch 17/100\n",
            "8000/8000 [==============================] - 1s 113us/step - loss: 0.3522 - acc: 0.8581\n",
            "Epoch 18/100\n",
            "8000/8000 [==============================] - 1s 114us/step - loss: 0.3522 - acc: 0.8577\n",
            "Epoch 19/100\n",
            "8000/8000 [==============================] - 1s 114us/step - loss: 0.3515 - acc: 0.8580\n",
            "Epoch 20/100\n",
            "8000/8000 [==============================] - 1s 114us/step - loss: 0.3509 - acc: 0.8570\n",
            "Epoch 21/100\n",
            "8000/8000 [==============================] - 1s 114us/step - loss: 0.3495 - acc: 0.8572\n",
            "Epoch 22/100\n",
            "8000/8000 [==============================] - 1s 114us/step - loss: 0.3502 - acc: 0.8582\n",
            "Epoch 23/100\n",
            "8000/8000 [==============================] - 1s 118us/step - loss: 0.3493 - acc: 0.8591\n",
            "Epoch 24/100\n",
            "8000/8000 [==============================] - 1s 116us/step - loss: 0.3482 - acc: 0.8576\n",
            "Epoch 25/100\n",
            "8000/8000 [==============================] - 1s 117us/step - loss: 0.3494 - acc: 0.8571\n",
            "Epoch 26/100\n",
            "8000/8000 [==============================] - 1s 115us/step - loss: 0.3478 - acc: 0.8596\n",
            "Epoch 27/100\n",
            "8000/8000 [==============================] - 1s 113us/step - loss: 0.3467 - acc: 0.8571\n",
            "Epoch 28/100\n",
            "8000/8000 [==============================] - 1s 117us/step - loss: 0.3467 - acc: 0.8594\n",
            "Epoch 29/100\n",
            "8000/8000 [==============================] - 1s 116us/step - loss: 0.3465 - acc: 0.8592\n",
            "Epoch 30/100\n",
            "8000/8000 [==============================] - 1s 113us/step - loss: 0.3461 - acc: 0.8590\n",
            "Epoch 31/100\n",
            "8000/8000 [==============================] - 1s 115us/step - loss: 0.3466 - acc: 0.8596\n",
            "Epoch 32/100\n",
            "8000/8000 [==============================] - 1s 114us/step - loss: 0.3460 - acc: 0.8575\n",
            "Epoch 33/100\n",
            "8000/8000 [==============================] - 1s 117us/step - loss: 0.3459 - acc: 0.8579\n",
            "Epoch 34/100\n",
            "8000/8000 [==============================] - 1s 116us/step - loss: 0.3445 - acc: 0.8612\n",
            "Epoch 35/100\n",
            "8000/8000 [==============================] - 1s 115us/step - loss: 0.3447 - acc: 0.8594\n",
            "Epoch 36/100\n",
            "8000/8000 [==============================] - 1s 114us/step - loss: 0.3453 - acc: 0.8597\n",
            "Epoch 37/100\n",
            "8000/8000 [==============================] - 1s 115us/step - loss: 0.3437 - acc: 0.8600\n",
            "Epoch 38/100\n",
            "8000/8000 [==============================] - 1s 113us/step - loss: 0.3440 - acc: 0.8579\n",
            "Epoch 39/100\n",
            "8000/8000 [==============================] - 1s 114us/step - loss: 0.3431 - acc: 0.8585\n",
            "Epoch 40/100\n",
            "8000/8000 [==============================] - 1s 114us/step - loss: 0.3423 - acc: 0.8611\n",
            "Epoch 41/100\n",
            "8000/8000 [==============================] - 1s 116us/step - loss: 0.3424 - acc: 0.8601\n",
            "Epoch 42/100\n",
            "8000/8000 [==============================] - 1s 117us/step - loss: 0.3423 - acc: 0.8597\n",
            "Epoch 43/100\n",
            "8000/8000 [==============================] - 1s 115us/step - loss: 0.3413 - acc: 0.8607\n",
            "Epoch 44/100\n",
            "8000/8000 [==============================] - 1s 114us/step - loss: 0.3414 - acc: 0.8615\n",
            "Epoch 45/100\n",
            "8000/8000 [==============================] - 1s 113us/step - loss: 0.3416 - acc: 0.8606\n",
            "Epoch 46/100\n",
            "8000/8000 [==============================] - 1s 116us/step - loss: 0.3417 - acc: 0.8606\n",
            "Epoch 47/100\n",
            "8000/8000 [==============================] - 1s 114us/step - loss: 0.3416 - acc: 0.8584\n",
            "Epoch 48/100\n",
            "8000/8000 [==============================] - 1s 116us/step - loss: 0.3415 - acc: 0.8580\n",
            "Epoch 49/100\n",
            "8000/8000 [==============================] - 1s 115us/step - loss: 0.3410 - acc: 0.8607\n",
            "Epoch 50/100\n",
            "8000/8000 [==============================] - 1s 116us/step - loss: 0.3403 - acc: 0.8600\n",
            "Epoch 51/100\n",
            "8000/8000 [==============================] - 1s 115us/step - loss: 0.3407 - acc: 0.8580\n",
            "Epoch 52/100\n",
            "8000/8000 [==============================] - 1s 116us/step - loss: 0.3396 - acc: 0.8600\n",
            "Epoch 53/100\n",
            "8000/8000 [==============================] - 1s 117us/step - loss: 0.3411 - acc: 0.8591\n",
            "Epoch 54/100\n",
            "8000/8000 [==============================] - 1s 116us/step - loss: 0.3408 - acc: 0.8606\n",
            "Epoch 55/100\n",
            "8000/8000 [==============================] - 1s 115us/step - loss: 0.3399 - acc: 0.8601\n",
            "Epoch 56/100\n",
            "8000/8000 [==============================] - 1s 115us/step - loss: 0.3409 - acc: 0.8597\n",
            "Epoch 57/100\n",
            "8000/8000 [==============================] - 1s 117us/step - loss: 0.3399 - acc: 0.8609\n",
            "Epoch 58/100\n",
            "8000/8000 [==============================] - 1s 115us/step - loss: 0.3407 - acc: 0.8582\n",
            "Epoch 59/100\n",
            "8000/8000 [==============================] - 1s 116us/step - loss: 0.3411 - acc: 0.8589\n",
            "Epoch 60/100\n",
            "8000/8000 [==============================] - 1s 117us/step - loss: 0.3395 - acc: 0.8604\n",
            "Epoch 61/100\n",
            "8000/8000 [==============================] - 1s 117us/step - loss: 0.3400 - acc: 0.8620\n",
            "Epoch 62/100\n",
            "8000/8000 [==============================] - 1s 115us/step - loss: 0.3405 - acc: 0.8609\n",
            "Epoch 63/100\n",
            "8000/8000 [==============================] - 1s 116us/step - loss: 0.3397 - acc: 0.8594\n",
            "Epoch 64/100\n",
            "8000/8000 [==============================] - 1s 116us/step - loss: 0.3404 - acc: 0.8602\n",
            "Epoch 65/100\n",
            "8000/8000 [==============================] - 1s 113us/step - loss: 0.3407 - acc: 0.8619\n",
            "Epoch 66/100\n",
            "8000/8000 [==============================] - 1s 116us/step - loss: 0.3397 - acc: 0.8601\n",
            "Epoch 67/100\n",
            "8000/8000 [==============================] - 1s 116us/step - loss: 0.3394 - acc: 0.8616\n",
            "Epoch 68/100\n",
            "8000/8000 [==============================] - 1s 116us/step - loss: 0.3398 - acc: 0.8605\n",
            "Epoch 69/100\n",
            "8000/8000 [==============================] - 1s 114us/step - loss: 0.3395 - acc: 0.8586\n",
            "Epoch 70/100\n",
            "8000/8000 [==============================] - 1s 115us/step - loss: 0.3392 - acc: 0.8594\n",
            "Epoch 71/100\n",
            "8000/8000 [==============================] - 1s 114us/step - loss: 0.3396 - acc: 0.8585\n",
            "Epoch 72/100\n",
            "8000/8000 [==============================] - 1s 117us/step - loss: 0.3397 - acc: 0.8582\n",
            "Epoch 73/100\n",
            "8000/8000 [==============================] - 1s 114us/step - loss: 0.3387 - acc: 0.8622\n",
            "Epoch 74/100\n",
            "8000/8000 [==============================] - 1s 113us/step - loss: 0.3396 - acc: 0.8605\n",
            "Epoch 75/100\n",
            "8000/8000 [==============================] - 1s 117us/step - loss: 0.3393 - acc: 0.8622\n",
            "Epoch 76/100\n",
            "8000/8000 [==============================] - 1s 114us/step - loss: 0.3382 - acc: 0.8606\n",
            "Epoch 77/100\n",
            "8000/8000 [==============================] - 1s 113us/step - loss: 0.3386 - acc: 0.8611\n",
            "Epoch 78/100\n",
            "8000/8000 [==============================] - 1s 114us/step - loss: 0.3393 - acc: 0.8609\n",
            "Epoch 79/100\n",
            "8000/8000 [==============================] - 1s 113us/step - loss: 0.3388 - acc: 0.8609\n",
            "Epoch 80/100\n",
            "8000/8000 [==============================] - 1s 117us/step - loss: 0.3392 - acc: 0.8615\n",
            "Epoch 81/100\n",
            "8000/8000 [==============================] - 1s 115us/step - loss: 0.3392 - acc: 0.8614\n",
            "Epoch 82/100\n",
            "8000/8000 [==============================] - 1s 116us/step - loss: 0.3387 - acc: 0.8610\n",
            "Epoch 83/100\n",
            "8000/8000 [==============================] - 1s 114us/step - loss: 0.3391 - acc: 0.8604\n",
            "Epoch 84/100\n",
            "8000/8000 [==============================] - 1s 117us/step - loss: 0.3388 - acc: 0.8614\n",
            "Epoch 85/100\n",
            "8000/8000 [==============================] - 1s 116us/step - loss: 0.3389 - acc: 0.8609\n",
            "Epoch 86/100\n",
            "8000/8000 [==============================] - 1s 114us/step - loss: 0.3392 - acc: 0.8586\n",
            "Epoch 87/100\n",
            "8000/8000 [==============================] - 1s 116us/step - loss: 0.3391 - acc: 0.8616\n",
            "Epoch 88/100\n",
            "8000/8000 [==============================] - 1s 116us/step - loss: 0.3395 - acc: 0.8632\n",
            "Epoch 89/100\n",
            "8000/8000 [==============================] - 1s 115us/step - loss: 0.3388 - acc: 0.8616\n",
            "Epoch 90/100\n",
            "8000/8000 [==============================] - 1s 114us/step - loss: 0.3387 - acc: 0.8587\n",
            "Epoch 91/100\n",
            "8000/8000 [==============================] - 1s 116us/step - loss: 0.3393 - acc: 0.8595\n",
            "Epoch 92/100\n",
            "8000/8000 [==============================] - 1s 116us/step - loss: 0.3393 - acc: 0.8611\n",
            "Epoch 93/100\n",
            "8000/8000 [==============================] - 1s 117us/step - loss: 0.3386 - acc: 0.8616\n",
            "Epoch 94/100\n",
            "8000/8000 [==============================] - 1s 114us/step - loss: 0.3387 - acc: 0.8615\n",
            "Epoch 95/100\n",
            "8000/8000 [==============================] - 1s 116us/step - loss: 0.3388 - acc: 0.8604\n",
            "Epoch 96/100\n",
            "8000/8000 [==============================] - 1s 115us/step - loss: 0.3377 - acc: 0.8619\n",
            "Epoch 97/100\n",
            "8000/8000 [==============================] - 1s 116us/step - loss: 0.3387 - acc: 0.8616\n",
            "Epoch 98/100\n",
            "8000/8000 [==============================] - 1s 114us/step - loss: 0.3385 - acc: 0.8611\n",
            "Epoch 99/100\n",
            "8000/8000 [==============================] - 1s 115us/step - loss: 0.3376 - acc: 0.8610\n",
            "Epoch 100/100\n",
            "8000/8000 [==============================] - 1s 114us/step - loss: 0.3392 - acc: 0.8611\n"
          ],
          "name": "stdout"
        },
        {
          "output_type": "execute_result",
          "data": {
            "text/plain": [
              "<keras.callbacks.History at 0x7f719ca4de10>"
            ]
          },
          "metadata": {
            "tags": []
          },
          "execution_count": 34
        }
      ]
    },
    {
      "cell_type": "code",
      "metadata": {
        "id": "qA8waGfe5fR2",
        "colab_type": "code",
        "colab": {}
      },
      "source": [
        "y_pred = classifier.predict_classes(X_test)"
      ],
      "execution_count": 0,
      "outputs": []
    },
    {
      "cell_type": "code",
      "metadata": {
        "id": "3Zg4aBfm5v5s",
        "colab_type": "code",
        "outputId": "93c05a0e-26d5-4043-c1b3-b0a70e033a83",
        "colab": {
          "base_uri": "https://localhost:8080/",
          "height": 141
        }
      },
      "source": [
        "y_pred\n"
      ],
      "execution_count": 0,
      "outputs": [
        {
          "output_type": "execute_result",
          "data": {
            "text/plain": [
              "array([[0],\n",
              "       [0],\n",
              "       [0],\n",
              "       ...,\n",
              "       [0],\n",
              "       [0],\n",
              "       [0]], dtype=int32)"
            ]
          },
          "metadata": {
            "tags": []
          },
          "execution_count": 37
        }
      ]
    },
    {
      "cell_type": "code",
      "metadata": {
        "id": "Eu1cMjw_V7ZV",
        "colab_type": "code",
        "colab": {}
      },
      "source": [
        "\n",
        "# Making the Confusion Matrix\n",
        "from sklearn.metrics import confusion_matrix\n",
        "cm = confusion_matrix(y_test, y_pred)"
      ],
      "execution_count": 0,
      "outputs": []
    },
    {
      "cell_type": "code",
      "metadata": {
        "id": "R7S0NCM455yq",
        "colab_type": "code",
        "outputId": "8b7c4420-be21-422a-ed76-5ece0b719643",
        "colab": {
          "base_uri": "https://localhost:8080/",
          "height": 52
        }
      },
      "source": [
        "cm\n"
      ],
      "execution_count": 0,
      "outputs": [
        {
          "output_type": "execute_result",
          "data": {
            "text/plain": [
              "array([[1509,   86],\n",
              "       [ 198,  207]])"
            ]
          },
          "metadata": {
            "tags": []
          },
          "execution_count": 39
        }
      ]
    },
    {
      "cell_type": "code",
      "metadata": {
        "id": "BFhSzin_56kX",
        "colab_type": "code",
        "outputId": "c7fcd75f-8d9a-4ea7-9ed5-4b9754a02078",
        "colab": {
          "base_uri": "https://localhost:8080/",
          "height": 35
        }
      },
      "source": [
        "(1509+207)/(1509+86+198+207)"
      ],
      "execution_count": 0,
      "outputs": [
        {
          "output_type": "execute_result",
          "data": {
            "text/plain": [
              "0.858"
            ]
          },
          "metadata": {
            "tags": []
          },
          "execution_count": 40
        }
      ]
    },
    {
      "cell_type": "code",
      "metadata": {
        "id": "KzDyk2ha6Fqi",
        "colab_type": "code",
        "colab": {}
      },
      "source": [
        ""
      ],
      "execution_count": 0,
      "outputs": []
    }
  ]
}